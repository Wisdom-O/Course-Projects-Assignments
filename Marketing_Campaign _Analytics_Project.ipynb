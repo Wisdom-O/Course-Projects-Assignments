{
 "cells": [
  {
   "cell_type": "code",
   "execution_count": 1,
   "metadata": {
    "scrolled": true
   },
   "outputs": [],
   "source": [
    "# Importing needed libraries\n",
    "#!pip install category_encoders\n",
    "#!pip install xgboost\n",
    "import pandas as pd\n",
    "import numpy as np\n",
    "import matplotlib.pyplot as plt\n",
    "import seaborn as sns\n",
    "from sklearn.preprocessing import OneHotEncoder\n",
    "import category_encoders as ce\n",
    "from sklearn.preprocessing import StandardScaler\n",
    "from sklearn.model_selection import train_test_split\n",
    "from sklearn.utils import resample\n",
    "from sklearn.tree import DecisionTreeClassifier\n",
    "from sklearn.ensemble import RandomForestClassifier\n",
    "from sklearn.ensemble import GradientBoostingClassifier\n",
    "from sklearn.neighbors import KNeighborsClassifier\n",
    "from sklearn.linear_model import LogisticRegression\n",
    "from xgboost import XGBClassifier\n",
    "from sklearn.model_selection import GridSearchCV\n",
    "from sklearn.metrics import auc, classification_report, confusion_matrix, f1_score, make_scorer, recall_score, precision_score\n",
    "from sklearn.model_selection import KFold, cross_validate\n",
    "from sklearn.feature_selection import RFE, RFECV\n",
    "import warnings\n",
    "warnings.filterwarnings(\"ignore\")"
   ]
  },
  {
   "cell_type": "code",
   "execution_count": 2,
   "metadata": {},
   "outputs": [],
   "source": [
    "# reading in data\n",
    "df = pd.read_csv(\"marketing_campaign.csv\", sep=\"\\t\")"
   ]
  },
  {
   "cell_type": "code",
   "execution_count": 3,
   "metadata": {},
   "outputs": [
    {
     "data": {
      "text/html": [
       "<div>\n",
       "<style scoped>\n",
       "    .dataframe tbody tr th:only-of-type {\n",
       "        vertical-align: middle;\n",
       "    }\n",
       "\n",
       "    .dataframe tbody tr th {\n",
       "        vertical-align: top;\n",
       "    }\n",
       "\n",
       "    .dataframe thead th {\n",
       "        text-align: right;\n",
       "    }\n",
       "</style>\n",
       "<table border=\"1\" class=\"dataframe\">\n",
       "  <thead>\n",
       "    <tr style=\"text-align: right;\">\n",
       "      <th></th>\n",
       "      <th>ID</th>\n",
       "      <th>Year_Birth</th>\n",
       "      <th>Education</th>\n",
       "      <th>Marital_Status</th>\n",
       "      <th>Income</th>\n",
       "      <th>Kidhome</th>\n",
       "      <th>Teenhome</th>\n",
       "      <th>Dt_Customer</th>\n",
       "      <th>Recency</th>\n",
       "      <th>MntWines</th>\n",
       "      <th>...</th>\n",
       "      <th>NumWebVisitsMonth</th>\n",
       "      <th>AcceptedCmp3</th>\n",
       "      <th>AcceptedCmp4</th>\n",
       "      <th>AcceptedCmp5</th>\n",
       "      <th>AcceptedCmp1</th>\n",
       "      <th>AcceptedCmp2</th>\n",
       "      <th>Complain</th>\n",
       "      <th>Z_CostContact</th>\n",
       "      <th>Z_Revenue</th>\n",
       "      <th>Response</th>\n",
       "    </tr>\n",
       "  </thead>\n",
       "  <tbody>\n",
       "    <tr>\n",
       "      <th>0</th>\n",
       "      <td>5524</td>\n",
       "      <td>1957</td>\n",
       "      <td>Graduation</td>\n",
       "      <td>Single</td>\n",
       "      <td>58138.0</td>\n",
       "      <td>0</td>\n",
       "      <td>0</td>\n",
       "      <td>2012-09-04</td>\n",
       "      <td>58</td>\n",
       "      <td>635</td>\n",
       "      <td>...</td>\n",
       "      <td>7</td>\n",
       "      <td>0</td>\n",
       "      <td>0</td>\n",
       "      <td>0</td>\n",
       "      <td>0</td>\n",
       "      <td>0</td>\n",
       "      <td>0</td>\n",
       "      <td>3</td>\n",
       "      <td>11</td>\n",
       "      <td>1</td>\n",
       "    </tr>\n",
       "    <tr>\n",
       "      <th>1</th>\n",
       "      <td>2174</td>\n",
       "      <td>1954</td>\n",
       "      <td>Graduation</td>\n",
       "      <td>Single</td>\n",
       "      <td>46344.0</td>\n",
       "      <td>1</td>\n",
       "      <td>1</td>\n",
       "      <td>2014-03-08</td>\n",
       "      <td>38</td>\n",
       "      <td>11</td>\n",
       "      <td>...</td>\n",
       "      <td>5</td>\n",
       "      <td>0</td>\n",
       "      <td>0</td>\n",
       "      <td>0</td>\n",
       "      <td>0</td>\n",
       "      <td>0</td>\n",
       "      <td>0</td>\n",
       "      <td>3</td>\n",
       "      <td>11</td>\n",
       "      <td>0</td>\n",
       "    </tr>\n",
       "    <tr>\n",
       "      <th>2</th>\n",
       "      <td>4141</td>\n",
       "      <td>1965</td>\n",
       "      <td>Graduation</td>\n",
       "      <td>Together</td>\n",
       "      <td>71613.0</td>\n",
       "      <td>0</td>\n",
       "      <td>0</td>\n",
       "      <td>2013-08-21</td>\n",
       "      <td>26</td>\n",
       "      <td>426</td>\n",
       "      <td>...</td>\n",
       "      <td>4</td>\n",
       "      <td>0</td>\n",
       "      <td>0</td>\n",
       "      <td>0</td>\n",
       "      <td>0</td>\n",
       "      <td>0</td>\n",
       "      <td>0</td>\n",
       "      <td>3</td>\n",
       "      <td>11</td>\n",
       "      <td>0</td>\n",
       "    </tr>\n",
       "    <tr>\n",
       "      <th>3</th>\n",
       "      <td>6182</td>\n",
       "      <td>1984</td>\n",
       "      <td>Graduation</td>\n",
       "      <td>Together</td>\n",
       "      <td>26646.0</td>\n",
       "      <td>1</td>\n",
       "      <td>0</td>\n",
       "      <td>2014-02-10</td>\n",
       "      <td>26</td>\n",
       "      <td>11</td>\n",
       "      <td>...</td>\n",
       "      <td>6</td>\n",
       "      <td>0</td>\n",
       "      <td>0</td>\n",
       "      <td>0</td>\n",
       "      <td>0</td>\n",
       "      <td>0</td>\n",
       "      <td>0</td>\n",
       "      <td>3</td>\n",
       "      <td>11</td>\n",
       "      <td>0</td>\n",
       "    </tr>\n",
       "    <tr>\n",
       "      <th>4</th>\n",
       "      <td>5324</td>\n",
       "      <td>1981</td>\n",
       "      <td>PhD</td>\n",
       "      <td>Married</td>\n",
       "      <td>58293.0</td>\n",
       "      <td>1</td>\n",
       "      <td>0</td>\n",
       "      <td>2014-01-19</td>\n",
       "      <td>94</td>\n",
       "      <td>173</td>\n",
       "      <td>...</td>\n",
       "      <td>5</td>\n",
       "      <td>0</td>\n",
       "      <td>0</td>\n",
       "      <td>0</td>\n",
       "      <td>0</td>\n",
       "      <td>0</td>\n",
       "      <td>0</td>\n",
       "      <td>3</td>\n",
       "      <td>11</td>\n",
       "      <td>0</td>\n",
       "    </tr>\n",
       "  </tbody>\n",
       "</table>\n",
       "<p>5 rows × 29 columns</p>\n",
       "</div>"
      ],
      "text/plain": [
       "     ID  Year_Birth   Education Marital_Status   Income  Kidhome  Teenhome  \\\n",
       "0  5524        1957  Graduation         Single  58138.0        0         0   \n",
       "1  2174        1954  Graduation         Single  46344.0        1         1   \n",
       "2  4141        1965  Graduation       Together  71613.0        0         0   \n",
       "3  6182        1984  Graduation       Together  26646.0        1         0   \n",
       "4  5324        1981         PhD        Married  58293.0        1         0   \n",
       "\n",
       "  Dt_Customer  Recency  MntWines  ...  NumWebVisitsMonth  AcceptedCmp3  \\\n",
       "0  2012-09-04       58       635  ...                  7             0   \n",
       "1  2014-03-08       38        11  ...                  5             0   \n",
       "2  2013-08-21       26       426  ...                  4             0   \n",
       "3  2014-02-10       26        11  ...                  6             0   \n",
       "4  2014-01-19       94       173  ...                  5             0   \n",
       "\n",
       "   AcceptedCmp4  AcceptedCmp5  AcceptedCmp1  AcceptedCmp2  Complain  \\\n",
       "0             0             0             0             0         0   \n",
       "1             0             0             0             0         0   \n",
       "2             0             0             0             0         0   \n",
       "3             0             0             0             0         0   \n",
       "4             0             0             0             0         0   \n",
       "\n",
       "   Z_CostContact  Z_Revenue  Response  \n",
       "0              3         11         1  \n",
       "1              3         11         0  \n",
       "2              3         11         0  \n",
       "3              3         11         0  \n",
       "4              3         11         0  \n",
       "\n",
       "[5 rows x 29 columns]"
      ]
     },
     "execution_count": 3,
     "metadata": {},
     "output_type": "execute_result"
    }
   ],
   "source": [
    "# checking the first five columns of the data\n",
    "df.head()"
   ]
  },
  {
   "cell_type": "code",
   "execution_count": 4,
   "metadata": {},
   "outputs": [
    {
     "name": "stdout",
     "output_type": "stream",
     "text": [
      "<class 'pandas.core.frame.DataFrame'>\n",
      "RangeIndex: 2240 entries, 0 to 2239\n",
      "Data columns (total 29 columns):\n",
      " #   Column               Non-Null Count  Dtype  \n",
      "---  ------               --------------  -----  \n",
      " 0   ID                   2240 non-null   int64  \n",
      " 1   Year_Birth           2240 non-null   int64  \n",
      " 2   Education            2240 non-null   object \n",
      " 3   Marital_Status       2240 non-null   object \n",
      " 4   Income               2216 non-null   float64\n",
      " 5   Kidhome              2240 non-null   int64  \n",
      " 6   Teenhome             2240 non-null   int64  \n",
      " 7   Dt_Customer          2240 non-null   object \n",
      " 8   Recency              2240 non-null   int64  \n",
      " 9   MntWines             2240 non-null   int64  \n",
      " 10  MntFruits            2240 non-null   int64  \n",
      " 11  MntMeatProducts      2240 non-null   int64  \n",
      " 12  MntFishProducts      2240 non-null   int64  \n",
      " 13  MntSweetProducts     2240 non-null   int64  \n",
      " 14  MntGoldProds         2240 non-null   int64  \n",
      " 15  NumDealsPurchases    2240 non-null   int64  \n",
      " 16  NumWebPurchases      2240 non-null   int64  \n",
      " 17  NumCatalogPurchases  2240 non-null   int64  \n",
      " 18  NumStorePurchases    2240 non-null   int64  \n",
      " 19  NumWebVisitsMonth    2240 non-null   int64  \n",
      " 20  AcceptedCmp3         2240 non-null   int64  \n",
      " 21  AcceptedCmp4         2240 non-null   int64  \n",
      " 22  AcceptedCmp5         2240 non-null   int64  \n",
      " 23  AcceptedCmp1         2240 non-null   int64  \n",
      " 24  AcceptedCmp2         2240 non-null   int64  \n",
      " 25  Complain             2240 non-null   int64  \n",
      " 26  Z_CostContact        2240 non-null   int64  \n",
      " 27  Z_Revenue            2240 non-null   int64  \n",
      " 28  Response             2240 non-null   int64  \n",
      "dtypes: float64(1), int64(25), object(3)\n",
      "memory usage: 507.6+ KB\n"
     ]
    }
   ],
   "source": [
    "# obtaining relevant information about the data\n",
    "df.info()"
   ]
  },
  {
   "cell_type": "code",
   "execution_count": 5,
   "metadata": {},
   "outputs": [
    {
     "data": {
      "text/html": [
       "<div>\n",
       "<style scoped>\n",
       "    .dataframe tbody tr th:only-of-type {\n",
       "        vertical-align: middle;\n",
       "    }\n",
       "\n",
       "    .dataframe tbody tr th {\n",
       "        vertical-align: top;\n",
       "    }\n",
       "\n",
       "    .dataframe thead th {\n",
       "        text-align: right;\n",
       "    }\n",
       "</style>\n",
       "<table border=\"1\" class=\"dataframe\">\n",
       "  <thead>\n",
       "    <tr style=\"text-align: right;\">\n",
       "      <th></th>\n",
       "      <th>ID</th>\n",
       "      <th>Year_Birth</th>\n",
       "      <th>Income</th>\n",
       "      <th>Kidhome</th>\n",
       "      <th>Teenhome</th>\n",
       "      <th>Recency</th>\n",
       "      <th>MntWines</th>\n",
       "      <th>MntFruits</th>\n",
       "      <th>MntMeatProducts</th>\n",
       "      <th>MntFishProducts</th>\n",
       "      <th>...</th>\n",
       "      <th>NumWebVisitsMonth</th>\n",
       "      <th>AcceptedCmp3</th>\n",
       "      <th>AcceptedCmp4</th>\n",
       "      <th>AcceptedCmp5</th>\n",
       "      <th>AcceptedCmp1</th>\n",
       "      <th>AcceptedCmp2</th>\n",
       "      <th>Complain</th>\n",
       "      <th>Z_CostContact</th>\n",
       "      <th>Z_Revenue</th>\n",
       "      <th>Response</th>\n",
       "    </tr>\n",
       "  </thead>\n",
       "  <tbody>\n",
       "    <tr>\n",
       "      <th>count</th>\n",
       "      <td>2240.000000</td>\n",
       "      <td>2240.000000</td>\n",
       "      <td>2216.000000</td>\n",
       "      <td>2240.000000</td>\n",
       "      <td>2240.000000</td>\n",
       "      <td>2240.000000</td>\n",
       "      <td>2240.000000</td>\n",
       "      <td>2240.000000</td>\n",
       "      <td>2240.000000</td>\n",
       "      <td>2240.000000</td>\n",
       "      <td>...</td>\n",
       "      <td>2240.000000</td>\n",
       "      <td>2240.000000</td>\n",
       "      <td>2240.000000</td>\n",
       "      <td>2240.000000</td>\n",
       "      <td>2240.000000</td>\n",
       "      <td>2240.000000</td>\n",
       "      <td>2240.000000</td>\n",
       "      <td>2240.0</td>\n",
       "      <td>2240.0</td>\n",
       "      <td>2240.000000</td>\n",
       "    </tr>\n",
       "    <tr>\n",
       "      <th>mean</th>\n",
       "      <td>5592.159821</td>\n",
       "      <td>1968.805804</td>\n",
       "      <td>52247.251354</td>\n",
       "      <td>0.444196</td>\n",
       "      <td>0.506250</td>\n",
       "      <td>49.109375</td>\n",
       "      <td>303.935714</td>\n",
       "      <td>26.302232</td>\n",
       "      <td>166.950000</td>\n",
       "      <td>37.525446</td>\n",
       "      <td>...</td>\n",
       "      <td>5.316518</td>\n",
       "      <td>0.072768</td>\n",
       "      <td>0.074554</td>\n",
       "      <td>0.072768</td>\n",
       "      <td>0.064286</td>\n",
       "      <td>0.013393</td>\n",
       "      <td>0.009375</td>\n",
       "      <td>3.0</td>\n",
       "      <td>11.0</td>\n",
       "      <td>0.149107</td>\n",
       "    </tr>\n",
       "    <tr>\n",
       "      <th>std</th>\n",
       "      <td>3246.662198</td>\n",
       "      <td>11.984069</td>\n",
       "      <td>25173.076661</td>\n",
       "      <td>0.538398</td>\n",
       "      <td>0.544538</td>\n",
       "      <td>28.962453</td>\n",
       "      <td>336.597393</td>\n",
       "      <td>39.773434</td>\n",
       "      <td>225.715373</td>\n",
       "      <td>54.628979</td>\n",
       "      <td>...</td>\n",
       "      <td>2.426645</td>\n",
       "      <td>0.259813</td>\n",
       "      <td>0.262728</td>\n",
       "      <td>0.259813</td>\n",
       "      <td>0.245316</td>\n",
       "      <td>0.114976</td>\n",
       "      <td>0.096391</td>\n",
       "      <td>0.0</td>\n",
       "      <td>0.0</td>\n",
       "      <td>0.356274</td>\n",
       "    </tr>\n",
       "    <tr>\n",
       "      <th>min</th>\n",
       "      <td>0.000000</td>\n",
       "      <td>1893.000000</td>\n",
       "      <td>1730.000000</td>\n",
       "      <td>0.000000</td>\n",
       "      <td>0.000000</td>\n",
       "      <td>0.000000</td>\n",
       "      <td>0.000000</td>\n",
       "      <td>0.000000</td>\n",
       "      <td>0.000000</td>\n",
       "      <td>0.000000</td>\n",
       "      <td>...</td>\n",
       "      <td>0.000000</td>\n",
       "      <td>0.000000</td>\n",
       "      <td>0.000000</td>\n",
       "      <td>0.000000</td>\n",
       "      <td>0.000000</td>\n",
       "      <td>0.000000</td>\n",
       "      <td>0.000000</td>\n",
       "      <td>3.0</td>\n",
       "      <td>11.0</td>\n",
       "      <td>0.000000</td>\n",
       "    </tr>\n",
       "    <tr>\n",
       "      <th>25%</th>\n",
       "      <td>2828.250000</td>\n",
       "      <td>1959.000000</td>\n",
       "      <td>35303.000000</td>\n",
       "      <td>0.000000</td>\n",
       "      <td>0.000000</td>\n",
       "      <td>24.000000</td>\n",
       "      <td>23.750000</td>\n",
       "      <td>1.000000</td>\n",
       "      <td>16.000000</td>\n",
       "      <td>3.000000</td>\n",
       "      <td>...</td>\n",
       "      <td>3.000000</td>\n",
       "      <td>0.000000</td>\n",
       "      <td>0.000000</td>\n",
       "      <td>0.000000</td>\n",
       "      <td>0.000000</td>\n",
       "      <td>0.000000</td>\n",
       "      <td>0.000000</td>\n",
       "      <td>3.0</td>\n",
       "      <td>11.0</td>\n",
       "      <td>0.000000</td>\n",
       "    </tr>\n",
       "    <tr>\n",
       "      <th>50%</th>\n",
       "      <td>5458.500000</td>\n",
       "      <td>1970.000000</td>\n",
       "      <td>51381.500000</td>\n",
       "      <td>0.000000</td>\n",
       "      <td>0.000000</td>\n",
       "      <td>49.000000</td>\n",
       "      <td>173.500000</td>\n",
       "      <td>8.000000</td>\n",
       "      <td>67.000000</td>\n",
       "      <td>12.000000</td>\n",
       "      <td>...</td>\n",
       "      <td>6.000000</td>\n",
       "      <td>0.000000</td>\n",
       "      <td>0.000000</td>\n",
       "      <td>0.000000</td>\n",
       "      <td>0.000000</td>\n",
       "      <td>0.000000</td>\n",
       "      <td>0.000000</td>\n",
       "      <td>3.0</td>\n",
       "      <td>11.0</td>\n",
       "      <td>0.000000</td>\n",
       "    </tr>\n",
       "    <tr>\n",
       "      <th>75%</th>\n",
       "      <td>8427.750000</td>\n",
       "      <td>1977.000000</td>\n",
       "      <td>68522.000000</td>\n",
       "      <td>1.000000</td>\n",
       "      <td>1.000000</td>\n",
       "      <td>74.000000</td>\n",
       "      <td>504.250000</td>\n",
       "      <td>33.000000</td>\n",
       "      <td>232.000000</td>\n",
       "      <td>50.000000</td>\n",
       "      <td>...</td>\n",
       "      <td>7.000000</td>\n",
       "      <td>0.000000</td>\n",
       "      <td>0.000000</td>\n",
       "      <td>0.000000</td>\n",
       "      <td>0.000000</td>\n",
       "      <td>0.000000</td>\n",
       "      <td>0.000000</td>\n",
       "      <td>3.0</td>\n",
       "      <td>11.0</td>\n",
       "      <td>0.000000</td>\n",
       "    </tr>\n",
       "    <tr>\n",
       "      <th>max</th>\n",
       "      <td>11191.000000</td>\n",
       "      <td>1996.000000</td>\n",
       "      <td>666666.000000</td>\n",
       "      <td>2.000000</td>\n",
       "      <td>2.000000</td>\n",
       "      <td>99.000000</td>\n",
       "      <td>1493.000000</td>\n",
       "      <td>199.000000</td>\n",
       "      <td>1725.000000</td>\n",
       "      <td>259.000000</td>\n",
       "      <td>...</td>\n",
       "      <td>20.000000</td>\n",
       "      <td>1.000000</td>\n",
       "      <td>1.000000</td>\n",
       "      <td>1.000000</td>\n",
       "      <td>1.000000</td>\n",
       "      <td>1.000000</td>\n",
       "      <td>1.000000</td>\n",
       "      <td>3.0</td>\n",
       "      <td>11.0</td>\n",
       "      <td>1.000000</td>\n",
       "    </tr>\n",
       "  </tbody>\n",
       "</table>\n",
       "<p>8 rows × 26 columns</p>\n",
       "</div>"
      ],
      "text/plain": [
       "                 ID   Year_Birth         Income      Kidhome     Teenhome  \\\n",
       "count   2240.000000  2240.000000    2216.000000  2240.000000  2240.000000   \n",
       "mean    5592.159821  1968.805804   52247.251354     0.444196     0.506250   \n",
       "std     3246.662198    11.984069   25173.076661     0.538398     0.544538   \n",
       "min        0.000000  1893.000000    1730.000000     0.000000     0.000000   \n",
       "25%     2828.250000  1959.000000   35303.000000     0.000000     0.000000   \n",
       "50%     5458.500000  1970.000000   51381.500000     0.000000     0.000000   \n",
       "75%     8427.750000  1977.000000   68522.000000     1.000000     1.000000   \n",
       "max    11191.000000  1996.000000  666666.000000     2.000000     2.000000   \n",
       "\n",
       "           Recency     MntWines    MntFruits  MntMeatProducts  \\\n",
       "count  2240.000000  2240.000000  2240.000000      2240.000000   \n",
       "mean     49.109375   303.935714    26.302232       166.950000   \n",
       "std      28.962453   336.597393    39.773434       225.715373   \n",
       "min       0.000000     0.000000     0.000000         0.000000   \n",
       "25%      24.000000    23.750000     1.000000        16.000000   \n",
       "50%      49.000000   173.500000     8.000000        67.000000   \n",
       "75%      74.000000   504.250000    33.000000       232.000000   \n",
       "max      99.000000  1493.000000   199.000000      1725.000000   \n",
       "\n",
       "       MntFishProducts  ...  NumWebVisitsMonth  AcceptedCmp3  AcceptedCmp4  \\\n",
       "count      2240.000000  ...        2240.000000   2240.000000   2240.000000   \n",
       "mean         37.525446  ...           5.316518      0.072768      0.074554   \n",
       "std          54.628979  ...           2.426645      0.259813      0.262728   \n",
       "min           0.000000  ...           0.000000      0.000000      0.000000   \n",
       "25%           3.000000  ...           3.000000      0.000000      0.000000   \n",
       "50%          12.000000  ...           6.000000      0.000000      0.000000   \n",
       "75%          50.000000  ...           7.000000      0.000000      0.000000   \n",
       "max         259.000000  ...          20.000000      1.000000      1.000000   \n",
       "\n",
       "       AcceptedCmp5  AcceptedCmp1  AcceptedCmp2     Complain  Z_CostContact  \\\n",
       "count   2240.000000   2240.000000   2240.000000  2240.000000         2240.0   \n",
       "mean       0.072768      0.064286      0.013393     0.009375            3.0   \n",
       "std        0.259813      0.245316      0.114976     0.096391            0.0   \n",
       "min        0.000000      0.000000      0.000000     0.000000            3.0   \n",
       "25%        0.000000      0.000000      0.000000     0.000000            3.0   \n",
       "50%        0.000000      0.000000      0.000000     0.000000            3.0   \n",
       "75%        0.000000      0.000000      0.000000     0.000000            3.0   \n",
       "max        1.000000      1.000000      1.000000     1.000000            3.0   \n",
       "\n",
       "       Z_Revenue     Response  \n",
       "count     2240.0  2240.000000  \n",
       "mean        11.0     0.149107  \n",
       "std          0.0     0.356274  \n",
       "min         11.0     0.000000  \n",
       "25%         11.0     0.000000  \n",
       "50%         11.0     0.000000  \n",
       "75%         11.0     0.000000  \n",
       "max         11.0     1.000000  \n",
       "\n",
       "[8 rows x 26 columns]"
      ]
     },
     "execution_count": 5,
     "metadata": {},
     "output_type": "execute_result"
    }
   ],
   "source": [
    "# viewing relevant summary statistics of each numerical column in the data.\n",
    "df.describe()"
   ]
  },
  {
   "cell_type": "code",
   "execution_count": 6,
   "metadata": {},
   "outputs": [],
   "source": [
    "# Setting the figure size for all figures in this notebook\n",
    "plt.rcParams['figure.figsize'] = [12,7]"
   ]
  },
  {
   "cell_type": "code",
   "execution_count": 7,
   "metadata": {},
   "outputs": [
    {
     "data": {
      "text/plain": [
       "<matplotlib.axes._subplots.AxesSubplot at 0x23bc28c2040>"
      ]
     },
     "execution_count": 7,
     "metadata": {},
     "output_type": "execute_result"
    },
    {
     "data": {
      "image/png": "[encoded data removed]",
      "text/plain": [
       "<Figure size 864x504 with 2 Axes>"
      ]
     },
     "metadata": {
      "needs_background": "light"
     },
     "output_type": "display_data"
    }
   ],
   "source": [
    "# creating a heatmap of missing data in the dataset; the heatmap shows only the income column has missing data.\n",
    "sns.heatmap(df.isna())"
   ]
  },
  {
   "cell_type": "code",
   "execution_count": 8,
   "metadata": {},
   "outputs": [
    {
     "data": {
      "text/plain": [
       "<matplotlib.axes._subplots.AxesSubplot at 0x23bc3156d00>"
      ]
     },
     "execution_count": 8,
     "metadata": {},
     "output_type": "execute_result"
    },
    {
     "data": {
      "image/png": "[encoded data removed]",
      "text/plain": [
       "<Figure size 864x504 with 1 Axes>"
      ]
     },
     "metadata": {
      "needs_background": "light"
     },
     "output_type": "display_data"
    }
   ],
   "source": [
    "# creating a distribution plot of the income column to better understand the distribution of the income of customers.\n",
    "sns.distplot(df.Income)"
   ]
  },
  {
   "cell_type": "code",
   "execution_count": 9,
   "metadata": {},
   "outputs": [
    {
     "data": {
      "text/plain": [
       "ID                      0\n",
       "Year_Birth              0\n",
       "Education               0\n",
       "Marital_Status          0\n",
       "Income                 24\n",
       "Kidhome                 0\n",
       "Teenhome                0\n",
       "Dt_Customer             0\n",
       "Recency                 0\n",
       "MntWines                0\n",
       "MntFruits               0\n",
       "MntMeatProducts         0\n",
       "MntFishProducts         0\n",
       "MntSweetProducts        0\n",
       "MntGoldProds            0\n",
       "NumDealsPurchases       0\n",
       "NumWebPurchases         0\n",
       "NumCatalogPurchases     0\n",
       "NumStorePurchases       0\n",
       "NumWebVisitsMonth       0\n",
       "AcceptedCmp3            0\n",
       "AcceptedCmp4            0\n",
       "AcceptedCmp5            0\n",
       "AcceptedCmp1            0\n",
       "AcceptedCmp2            0\n",
       "Complain                0\n",
       "Z_CostContact           0\n",
       "Z_Revenue               0\n",
       "Response                0\n",
       "dtype: int64"
      ]
     },
     "execution_count": 9,
     "metadata": {},
     "output_type": "execute_result"
    }
   ],
   "source": [
    "# checking confirm the total number of missing data in each column\n",
    "df.isna().sum()"
   ]
  },
  {
   "cell_type": "code",
   "execution_count": 10,
   "metadata": {},
   "outputs": [
    {
     "data": {
      "text/plain": [
       "10      0\n",
       "27      0\n",
       "43      0\n",
       "48      0\n",
       "58      0\n",
       "71      0\n",
       "90      0\n",
       "91      0\n",
       "92      0\n",
       "128     0\n",
       "133     0\n",
       "312     0\n",
       "319     0\n",
       "1379    0\n",
       "1382    0\n",
       "1383    0\n",
       "1386    0\n",
       "2059    0\n",
       "2061    0\n",
       "2078    0\n",
       "2079    0\n",
       "2081    0\n",
       "2084    1\n",
       "2228    0\n",
       "Name: Response, dtype: int64"
      ]
     },
     "execution_count": 10,
     "metadata": {},
     "output_type": "execute_result"
    }
   ],
   "source": [
    "# checking to see the distribution of classes for the missing income data in the dataset.\n",
    "df[df.Income.isna()][\"Response\"]"
   ]
  },
  {
   "cell_type": "code",
   "execution_count": 11,
   "metadata": {},
   "outputs": [
    {
     "data": {
      "text/plain": [
       "0    0.850893\n",
       "1    0.149107\n",
       "Name: Response, dtype: float64"
      ]
     },
     "execution_count": 11,
     "metadata": {},
     "output_type": "execute_result"
    }
   ],
   "source": [
    "# checking the distribution of the classes in the output variable. The result shows the dataset is imbalanced with the\n",
    "# No Response output dominating the output class\n",
    "df.Response.value_counts(normalize=True)"
   ]
  },
  {
   "cell_type": "markdown",
   "metadata": {},
   "source": [
    "Income has only 24 of its 2240 entries missing. Since most of the data is centered around the mean, with a few outliers (seen in the distribution plot) and the one of the important classes has a missing income, the average income would be used to fill the missing values. Although the actual income for the data point being filled may be higher or lower than this value, this would be used as the best guess for those missing Income."
   ]
  },
  {
   "cell_type": "code",
   "execution_count": 12,
   "metadata": {},
   "outputs": [],
   "source": [
    "# filling the missing data in the Income column using the average Income in the dataset\n",
    "df.fillna(value=df.Income.mean(), axis=1, inplace=True)"
   ]
  },
  {
   "cell_type": "code",
   "execution_count": 13,
   "metadata": {},
   "outputs": [
    {
     "data": {
      "text/plain": [
       "<matplotlib.axes._subplots.AxesSubplot at 0x23bc38042b0>"
      ]
     },
     "execution_count": 13,
     "metadata": {},
     "output_type": "execute_result"
    },
    {
     "data": {
      "image/png": "[encoded data removed]",
      "text/plain": [
       "<Figure size 864x504 with 1 Axes>"
      ]
     },
     "metadata": {
      "needs_background": "light"
     },
     "output_type": "display_data"
    }
   ],
   "source": [
    "# Creating a barplot to check the distribution of income in each of the classes and in each of the marital status for each \n",
    "# customer.\n",
    "sns.barplot(x=df.Response, y=df.Income, hue=df.Marital_Status)"
   ]
  },
  {
   "cell_type": "code",
   "execution_count": 14,
   "metadata": {},
   "outputs": [
    {
     "data": {
      "text/plain": [
       "<matplotlib.axes._subplots.AxesSubplot at 0x23bc38d27c0>"
      ]
     },
     "execution_count": 14,
     "metadata": {},
     "output_type": "execute_result"
    },
    {
     "data": {
      "image/png": "[encoded data removed]",
      "text/plain": [
       "<Figure size 864x504 with 1 Axes>"
      ]
     },
     "metadata": {
      "needs_background": "light"
     },
     "output_type": "display_data"
    }
   ],
   "source": [
    "# creating a countplot to see the distribution of customers by marital status and response to the last add campaign. A more \n",
    "# view of the response for the last six campaigns is done in Tableau in an interactive dashboard. Tableau makes it easier to \n",
    "# the assess and filter the distribution of customers by multiple factors. \n",
    "sns.countplot(df.Marital_Status, hue=df.Response)"
   ]
  },
  {
   "cell_type": "markdown",
   "metadata": {},
   "source": [
    "To better assess this distribution, a closer look at this distribution is shown in the next two plots."
   ]
  },
  {
   "cell_type": "code",
   "execution_count": 15,
   "metadata": {},
   "outputs": [],
   "source": [
    "# summing up the counts of the customers grouped by their response and marital status\n",
    "sum_0 = df.groupby([\"Response\", \"Marital_Status\"]).count()['ID'][0].sum()\n",
    "sum_1 = df.groupby([\"Response\", \"Marital_Status\"]).count()['ID'][1].sum()"
   ]
  },
  {
   "cell_type": "code",
   "execution_count": 16,
   "metadata": {},
   "outputs": [
    {
     "data": {
      "image/png": "[encoded data removed]",
      "text/plain": [
       "<Figure size 1440x504 with 2 Axes>"
      ]
     },
     "metadata": {
      "needs_background": "light"
     },
     "output_type": "display_data"
    }
   ],
   "source": [
    "# creating a plot of the distribution of customers based on their response and marital status. \n",
    "# This distributions shows the dominating marital status in each of the response group.\n",
    "fig, (ax1, ax2) = plt.subplots(1,2,figsize=(20,7))\n",
    "ax1.bar((df.groupby([\"Response\", \"Marital_Status\"]).count()['ID'][0]/sum_0).index,\n",
    "       (df.groupby([\"Response\", \"Marital_Status\"]).count()['ID'][0]/sum_0))\n",
    "ax2.bar((df.groupby([\"Response\", \"Marital_Status\"]).count()['ID'][1]/sum_1).index,\n",
    "       (df.groupby([\"Response\", \"Marital_Status\"]).count()['ID'][1]/sum_1))\n",
    "ax1.title.set_text(\"Did Not Respond\")\n",
    "ax2.title.set_text(\"Responded\")"
   ]
  },
  {
   "cell_type": "markdown",
   "metadata": {},
   "source": [
    "In the above plot, the dominating marital status in the group that responded to the last campaign is the group of customers that identified as being single, the second highest responders are married customers.    \n",
    "In the group that did not respond to the last marketing campaign, customers that identified as married have the highest proportion of non-response followed by customers that identfied their marital status as together.  \n",
    "Further analysis of the proportion of responders and non responders in each marital status group is shown below; more of this analysis including response to the last six campaigns is done in Tableau"
   ]
  },
  {
   "cell_type": "code",
   "execution_count": 17,
   "metadata": {},
   "outputs": [
    {
     "data": {
      "image/png": "[encoded data removed]",
      "text/plain": [
       "<Figure size 1440x504 with 2 Axes>"
      ]
     },
     "metadata": {
      "needs_background": "light"
     },
     "output_type": "display_data"
    }
   ],
   "source": [
    "# generating the proportion of customers in each marital status that responded and did not respond to the last marketing\n",
    "# campaign\n",
    "index0 = (df.groupby([\"Response\", \"Marital_Status\"]).count()['ID'][0]/df.groupby(\"Marital_Status\").count()[\"Response\"]).index\n",
    "index1 = (df.groupby([\"Response\", \"Marital_Status\"]).count()['ID'][1]/df.groupby(\"Marital_Status\").count()[\"Response\"]).index\n",
    "fig, (ax1, ax2) = plt.subplots(1,2,figsize=(20,7))\n",
    "ax1.bar(index0, (df.groupby([\"Response\", \"Marital_Status\"]).count()['ID'][0]/df.groupby(\"Marital_Status\").count()[\"Response\"]))\n",
    "ax2.bar(index1, (df.groupby([\"Response\", \"Marital_Status\"]).count()['ID'][1]/df.groupby(\"Marital_Status\").count()[\"Response\"]))\n",
    "ax1.set_yticks([0.2,0.4,0.6,0.8,1.0])\n",
    "ax2.set_yticks([0.2,0.4,0.6,0.8,1.0])\n",
    "ax1.title.set_text(\"Did Not Respond\")\n",
    "ax2.title.set_text(\"Responded\")"
   ]
  },
  {
   "cell_type": "markdown",
   "metadata": {},
   "source": [
    "From the plot above, it can be seen that of only about approximately, 15% of the total number of married customers responded to the last marketing campaign. The other 85% did not respond to the campaign. Although the previous distribution showed that married customers made up about 37% of the group that responded, this proportion pales in comparison to the actual number of married customers that the last marketing campaign was sent to.   \n",
    "Of the total number of customers who identified as \"Single\", approximately 22% of them responded to the last marketing campaign.This makes them the highest responding groups among all the marital groups for the last marketing campaign.   \n",
    "Absurd and YOLO each have only 2 customers belonging to the group. This number pales in comparison to the number of customers in other groups. The group \"Alone\" has only 3 customers belonging to it."
   ]
  },
  {
   "cell_type": "markdown",
   "metadata": {},
   "source": [
    "More analysis and interactive visualization is done in Tableau"
   ]
  },
  {
   "cell_type": "code",
   "execution_count": 18,
   "metadata": {},
   "outputs": [],
   "source": [
    "# Converting the data type of the date customers from an object to a datetime format and extracting the year to be used in this\n",
    "# for analysis\n",
    "df[\"Dt_Customer\"] = pd.to_datetime(df.Dt_Customer).dt.year"
   ]
  },
  {
   "cell_type": "code",
   "execution_count": 19,
   "metadata": {},
   "outputs": [],
   "source": [
    "# Dropping the customer entries with strong outlier income to reduce the noise in the data during modeling\n",
    "df.drop(list(df[df.Income >= 100000].index), inplace=True)"
   ]
  },
  {
   "cell_type": "code",
   "execution_count": 20,
   "metadata": {},
   "outputs": [
    {
     "data": {
      "text/plain": [
       "<matplotlib.axes._subplots.AxesSubplot at 0x23bc439e7f0>"
      ]
     },
     "execution_count": 20,
     "metadata": {},
     "output_type": "execute_result"
    },
    {
     "data": {
      "image/png": "[encoded data removed]",
      "text/plain": [
       "<Figure size 864x504 with 1 Axes>"
      ]
     },
     "metadata": {
      "needs_background": "light"
     },
     "output_type": "display_data"
    }
   ],
   "source": [
    "# creating a distribution plot of the Income column after dropping these outliers.\n",
    "sns.distplot(df[\"Income\"])"
   ]
  },
  {
   "cell_type": "code",
   "execution_count": 21,
   "metadata": {},
   "outputs": [],
   "source": [
    "# selecting columns that would be converted to categorical columns and columns that are constants and identfiers to drop\n",
    "columns_to_categorical = [\"Education\", \"Marital Status\"]\n",
    "columns_to_drop = [\"ID\", \"Z_CostContact\", \"Z_Revenue\"]"
   ]
  },
  {
   "cell_type": "code",
   "execution_count": 22,
   "metadata": {},
   "outputs": [],
   "source": [
    "# dropping columns that do not add information that could be used in modelling.\n",
    "df.drop(columns_to_drop, axis =1, inplace=True)"
   ]
  },
  {
   "cell_type": "code",
   "execution_count": 23,
   "metadata": {},
   "outputs": [
    {
     "data": {
      "text/plain": [
       "<matplotlib.axes._subplots.AxesSubplot at 0x23bc4444c70>"
      ]
     },
     "execution_count": 23,
     "metadata": {},
     "output_type": "execute_result"
    },
    {
     "data": {
      "image/png": "[encoded data removed]",
      "text/plain": [
       "<Figure size 864x504 with 2 Axes>"
      ]
     },
     "metadata": {
      "needs_background": "light"
     },
     "output_type": "display_data"
    }
   ],
   "source": [
    "# creating a heatmap of the correlation of numerical columns in the dataframe of the marketing campaign dataset.\n",
    "sns.heatmap(df.corr())"
   ]
  },
  {
   "cell_type": "markdown",
   "metadata": {},
   "source": [
    "The heatmap shows low to medium negative and positive correlation between all the numerical variables in the dataset. This is in concordance with scatter plots of a combination of various variables in the dataset that was generated in Tableau."
   ]
  },
  {
   "cell_type": "code",
   "execution_count": 24,
   "metadata": {},
   "outputs": [],
   "source": [
    "# Preparing the dataset for modeling; encoding categorical features, Education and Marital Status.\n",
    "X = df.drop(\"Response\", axis =1)\n",
    "y = df.Response\n",
    "encoder=ce.OneHotEncoder()\n",
    "encoder.fit(X,y)\n",
    "X = encoder.transform(X)\n",
    "scaler = StandardScaler()"
   ]
  },
  {
   "cell_type": "code",
   "execution_count": 25,
   "metadata": {},
   "outputs": [],
   "source": [
    "# Splitting the data into train and test sets and scaling it using standard scaler.\n",
    "X_train, X_test, y_train, y_test = train_test_split(X,y, test_size = 0.30, random_state=10)\n",
    "X_train = scaler.fit_transform(X_train)\n",
    "X_test = scaler.transform(X_test)"
   ]
  },
  {
   "cell_type": "markdown",
   "metadata": {},
   "source": [
    "#### Feature Selection"
   ]
  },
  {
   "cell_type": "code",
   "execution_count": 26,
   "metadata": {},
   "outputs": [],
   "source": [
    "# Performing feature selection to select 25 most important variables identified using recursive feature selection with L2 \n",
    "# Logistic regression model as the estimator. This would help in easing the modelling process and reducing the chances of \n",
    "# the model overfitting to the dataset.\n",
    "estimator = LogisticRegression()\n",
    "selector = RFECV(estimator, min_features_to_select=25,cv=5,scoring=make_scorer(recall_score) )\n",
    "selector.fit(X_train, y_train)\n",
    "X_train = selector.transform(X_train)"
   ]
  },
  {
   "cell_type": "markdown",
   "metadata": {},
   "source": [
    "### Model Selection"
   ]
  },
  {
   "cell_type": "markdown",
   "metadata": {},
   "source": [
    "Five classification algorithms are explored in this model selection process. These models are L1 and L2 logistic regression, Decision Tree Classifier, Random Forest Classifier, K Nearest Neighbour and XGBoost Classifier. In this section, this models are tuned with 5-fold cross validation and using the evaluation metric recall_score. Recall_score was chosen because for an email marketing campaign, the recall is more important than precision because we want to minimize the False Negatives and send email campaign messages to all customers that have higher tendencies to respond to our campaign."
   ]
  },
  {
   "cell_type": "markdown",
   "metadata": {},
   "source": [
    "#### L1 and L2 Logistic Regression Models"
   ]
  },
  {
   "cell_type": "code",
   "execution_count": 27,
   "metadata": {},
   "outputs": [
    {
     "name": "stdout",
     "output_type": "stream",
     "text": [
      "Fitting 5 folds for each of 20 candidates, totalling 100 fits\n"
     ]
    },
    {
     "name": "stderr",
     "output_type": "stream",
     "text": [
      "[Parallel(n_jobs=4)]: Using backend LokyBackend with 4 concurrent workers.\n",
      "[Parallel(n_jobs=4)]: Done  56 tasks      | elapsed:    1.9s\n"
     ]
    },
    {
     "name": "stdout",
     "output_type": "stream",
     "text": [
      "Best Score is: 0.46455141785280807 and Best model is: LogisticRegression(C=0.9, penalty='l1', solver='liblinear')\n"
     ]
    },
    {
     "name": "stderr",
     "output_type": "stream",
     "text": [
      "[Parallel(n_jobs=4)]: Done 100 out of 100 | elapsed:    2.7s finished\n"
     ]
    }
   ],
   "source": [
    "param_grid_lg1 = {'solver': ['liblinear','saga' ],\n",
    "                 'C': [0.2,0.2,0.3,0.4,0.5,0.6,0.7,.8,0.9,1.0]}\n",
    "folds = KFold(n_splits = 5, random_state=1,shuffle=True)\n",
    "param_search_lg1 = GridSearchCV(estimator=LogisticRegression(penalty='l1'),scoring=make_scorer(recall_score),\n",
    "                                param_grid=param_grid_lg1,n_jobs=4,cv=folds,verbose=1)\n",
    "param_search_lg1.fit(X_train,y_train)\n",
    "print('Best Score is:', param_search_lg1.best_score_, 'and Best model is:', param_search_lg1.best_estimator_)"
   ]
  },
  {
   "cell_type": "code",
   "execution_count": 28,
   "metadata": {},
   "outputs": [
    {
     "name": "stderr",
     "output_type": "stream",
     "text": [
      "[Parallel(n_jobs=4)]: Using backend LokyBackend with 4 concurrent workers.\n"
     ]
    },
    {
     "name": "stdout",
     "output_type": "stream",
     "text": [
      "Fitting 10 folds for each of 24 candidates, totalling 240 fits\n"
     ]
    },
    {
     "name": "stderr",
     "output_type": "stream",
     "text": [
      "[Parallel(n_jobs=4)]: Done 128 tasks      | elapsed:    4.1s\n",
      "[Parallel(n_jobs=4)]: Done 233 out of 240 | elapsed:    8.9s remaining:    0.2s\n"
     ]
    },
    {
     "name": "stdout",
     "output_type": "stream",
     "text": [
      "Best Score is: 0.45140277454855465 and Best model is: LogisticRegression(C=16.0, max_iter=1000)\n"
     ]
    },
    {
     "name": "stderr",
     "output_type": "stream",
     "text": [
      "[Parallel(n_jobs=4)]: Done 240 out of 240 | elapsed:    9.5s finished\n"
     ]
    }
   ],
   "source": [
    "param_gridlg2 = {'solver': ['newton-cg', 'lbfgs', 'sag','saga' ],\n",
    "              'C': [10.0,12.0,15.0, 16.0, 17.0, 18.0]}\n",
    "folds = KFold(n_splits = 10, random_state=1, shuffle=True)\n",
    "param_searchlg2 = GridSearchCV(estimator=LogisticRegression(max_iter=1000),param_grid=param_gridlg2,scoring=make_scorer(recall_score),\n",
    "                               n_jobs=4,cv=folds,verbose=1)\n",
    "param_searchlg2.fit(X_train,y_train)\n",
    "print('Best Score is:', param_searchlg2.best_score_, 'and Best model is:', param_searchlg2.best_estimator_)"
   ]
  },
  {
   "cell_type": "markdown",
   "metadata": {},
   "source": [
    "##### Decision Tree Algorithm"
   ]
  },
  {
   "cell_type": "code",
   "execution_count": 29,
   "metadata": {},
   "outputs": [
    {
     "name": "stderr",
     "output_type": "stream",
     "text": [
      "[Parallel(n_jobs=4)]: Using backend LokyBackend with 4 concurrent workers.\n"
     ]
    },
    {
     "name": "stdout",
     "output_type": "stream",
     "text": [
      "Fitting 5 folds for each of 54 candidates, totalling 270 fits\n",
      "Best Score for DT is:  0.4801927980229867 and the Best parameters for the model is:  {'max_depth': 200, 'max_leaf_nodes': 200, 'min_samples_split': 10}\n"
     ]
    },
    {
     "name": "stderr",
     "output_type": "stream",
     "text": [
      "[Parallel(n_jobs=4)]: Done 220 tasks      | elapsed:    0.7s\n",
      "[Parallel(n_jobs=4)]: Done 270 out of 270 | elapsed:    0.8s finished\n"
     ]
    }
   ],
   "source": [
    "param_gridDT = { \"min_samples_split\": [ 1, 2, 3, 4, 5, 10],\n",
    "                \"max_depth\": [50,150,200],\n",
    "                \"max_leaf_nodes\": [100,150,200]}\n",
    "folds = KFold(n_splits = 5, random_state=1)\n",
    "param_searchDT = GridSearchCV(estimator = DecisionTreeClassifier(criterion='entropy'), scoring=make_scorer(recall_score),\n",
    "                              param_grid = param_gridDT, cv= folds,n_jobs=4,verbose=1)\n",
    "param_searchDT.fit(X_train,y_train)\n",
    "print('Best Score for DT is: ',param_searchDT.best_score_, 'and the Best parameters for the model is: ', \n",
    "      param_searchDT.best_params_)"
   ]
  },
  {
   "cell_type": "markdown",
   "metadata": {},
   "source": [
    "##### Random Forest Algorithm"
   ]
  },
  {
   "cell_type": "code",
   "execution_count": 30,
   "metadata": {},
   "outputs": [
    {
     "name": "stderr",
     "output_type": "stream",
     "text": [
      "[Parallel(n_jobs=4)]: Using backend LokyBackend with 4 concurrent workers.\n"
     ]
    },
    {
     "name": "stdout",
     "output_type": "stream",
     "text": [
      "Fitting 5 folds for each of 60 candidates, totalling 300 fits\n"
     ]
    },
    {
     "name": "stderr",
     "output_type": "stream",
     "text": [
      "[Parallel(n_jobs=4)]: Done 205 tasks      | elapsed:    1.0s\n"
     ]
    },
    {
     "name": "stdout",
     "output_type": "stream",
     "text": [
      "Best Score for Random Forest is:  0.43507766837955525 and the Best parameters for the model are:  {'bootstrap': False, 'max_depth': 150, 'n_estimators': 1}\n"
     ]
    },
    {
     "name": "stderr",
     "output_type": "stream",
     "text": [
      "[Parallel(n_jobs=4)]: Done 300 out of 300 | elapsed:    1.4s finished\n"
     ]
    }
   ],
   "source": [
    "model_RF = RandomForestClassifier()\n",
    "param_gridRF = {\"n_estimators\": [1,2,3,4,5,6],\n",
    "              \"max_depth\": [20, 50, 100,120,150],\n",
    "              \"bootstrap\": [True, False] }\n",
    "grid_searchRF = GridSearchCV(estimator = model_RF, param_grid=param_gridRF, n_jobs=4, scoring=make_scorer(recall_score),\n",
    "                             refit=True, verbose=1, cv=folds)\n",
    "grid_searchRF.fit(X_train, y_train)\n",
    "print('Best Score for Random Forest is: ',grid_searchRF.best_score_, 'and the Best parameters for the model are: ',\n",
    "      grid_searchRF.best_params_)"
   ]
  },
  {
   "cell_type": "markdown",
   "metadata": {},
   "source": [
    "##### K Nearest Neighbour Algorithm"
   ]
  },
  {
   "cell_type": "code",
   "execution_count": 31,
   "metadata": {},
   "outputs": [
    {
     "name": "stdout",
     "output_type": "stream",
     "text": [
      "for a K of  1 mean recall score is  0.3962417134115247 and the standard deviation across folds is  0.042569192691702354\n",
      "for a K of  2 mean recall score is  0.16399364531440003 and the standard deviation across folds is  0.041133517156481385\n",
      "for a K of  3 mean recall score is  0.2682775663907739 and the standard deviation across folds is  0.025619868649400346\n",
      "for a K of  4 mean recall score is  0.14070823363276194 and the standard deviation across folds is  0.04258214798858782\n",
      "for a K of  5 mean recall score is  0.19658239516730083 and the standard deviation across folds is  0.03862929557266247\n",
      "for a K of  7 mean recall score is  0.17447161966029892 and the standard deviation across folds is  0.009935703111647017\n"
     ]
    }
   ],
   "source": [
    "n_neighbours = [1,2,3,4,5,7]\n",
    "folds = KFold(n_splits = 5, random_state=1)\n",
    "for i in n_neighbours:\n",
    "    model = KNeighborsClassifier(n_neighbors = i,n_jobs=-1)\n",
    "    cross_valknn= cross_validate(estimator=model,X=X_train,y=y_train,cv=folds,scoring=make_scorer(recall_score))\n",
    "    mean_cvscore_knn = cross_valknn['test_score'].mean()\n",
    "    std_cvscore_knn = cross_valknn['test_score'].std()\n",
    "    print('for a K of ', i ,'mean recall score is ' , mean_cvscore_knn,'and the standard deviation across folds is ',\n",
    "          std_cvscore_knn)"
   ]
  },
  {
   "cell_type": "markdown",
   "metadata": {},
   "source": [
    "##### XGBOOST"
   ]
  },
  {
   "cell_type": "code",
   "execution_count": 32,
   "metadata": {},
   "outputs": [
    {
     "name": "stdout",
     "output_type": "stream",
     "text": [
      "Fitting 5 folds for each of 5040 candidates, totalling 25200 fits\n"
     ]
    },
    {
     "name": "stderr",
     "output_type": "stream",
     "text": [
      "[Parallel(n_jobs=4)]: Using backend LokyBackend with 4 concurrent workers.\n",
      "[Parallel(n_jobs=4)]: Done  52 tasks      | elapsed:    2.7s\n",
      "[Parallel(n_jobs=4)]: Done 352 tasks      | elapsed:   14.1s\n",
      "[Parallel(n_jobs=4)]: Done 852 tasks      | elapsed:   33.9s\n",
      "[Parallel(n_jobs=4)]: Done 1552 tasks      | elapsed:   55.2s\n",
      "[Parallel(n_jobs=4)]: Done 2452 tasks      | elapsed:  1.3min\n",
      "[Parallel(n_jobs=4)]: Done 3552 tasks      | elapsed:  1.9min\n",
      "[Parallel(n_jobs=4)]: Done 4852 tasks      | elapsed:  2.6min\n",
      "[Parallel(n_jobs=4)]: Done 6352 tasks      | elapsed:  3.6min\n",
      "[Parallel(n_jobs=4)]: Done 8052 tasks      | elapsed:  4.9min\n",
      "[Parallel(n_jobs=4)]: Done 9952 tasks      | elapsed:  6.2min\n",
      "[Parallel(n_jobs=4)]: Done 12052 tasks      | elapsed:  7.6min\n",
      "[Parallel(n_jobs=4)]: Done 14352 tasks      | elapsed:  9.0min\n",
      "[Parallel(n_jobs=4)]: Done 16852 tasks      | elapsed: 10.7min\n",
      "[Parallel(n_jobs=4)]: Done 19552 tasks      | elapsed: 12.3min\n",
      "[Parallel(n_jobs=4)]: Done 22452 tasks      | elapsed: 14.0min\n",
      "[Parallel(n_jobs=4)]: Done 25200 out of 25200 | elapsed: 15.9min finished\n"
     ]
    },
    {
     "name": "stdout",
     "output_type": "stream",
     "text": [
      "Best Score for SVC is:  0.5252422233554309 and the Best parameters for the model are:  {'alpha': 0, 'lambda': 0, 'learning_rate': 2.0, 'max_depth': 20, 'n_estimators': 40, 'sampling_method': 'uniform', 'tree_method': 'hist'}\n"
     ]
    }
   ],
   "source": [
    "param_grid_xgb = {'n_estimators': [20,30,40,50,60,80,100],\n",
    "                 'max_depth': [20,30,40,50,70],\n",
    "                 'sampling_method':['uniform', 'gradient_based'],\n",
    "                 'tree_method': ['approx', 'hist'],\n",
    "                 'learning_rate':[0.5,1.0,1.5,2.0],\n",
    "                 'lambda': [0,0.5,1.0],\n",
    "                'alpha': [0,0.5,1.0]}\n",
    "param_searchXGB = GridSearchCV(estimator =XGBClassifier(),param_grid = param_grid_xgb, scoring=make_scorer(recall_score),\n",
    "                               cv= folds,n_jobs=4,verbose=1)\n",
    "param_searchXGB.fit(X_train,y_train)\n",
    "print('Best Score for SVC is: ',param_searchXGB.best_score_, 'and the Best parameters for the model are: ', param_searchXGB.best_params_)"
   ]
  },
  {
   "cell_type": "markdown",
   "metadata": {},
   "source": [
    "The cross validation recall score for each algorithm used with the unbalanced dataset is less than or just around 50% which is not good enough. To increase the tendency of getting a model with a better recall, the original dataset for training would be resampled. The dominating class would be downsampled and each of the algorithms would be applied on the downsampled training set."
   ]
  },
  {
   "cell_type": "markdown",
   "metadata": {},
   "source": [
    "#### Downsampling the dataset"
   ]
  },
  {
   "cell_type": "code",
   "execution_count": 33,
   "metadata": {},
   "outputs": [],
   "source": [
    "# Downsampling the dataset.\n",
    "np.random.seed(1)\n",
    "indexes0 = list(np.random.choice(y[y==0].index, size = 330, replace=False))\n",
    "y_sampled = y[indexes0]\n",
    "X_sampled = X.loc[indexes0]\n",
    "y_ones = y[y==1]\n",
    "X_ones = X.loc[y[y==1].index]\n",
    "X_new = pd.concat([X_ones, X_sampled])\n",
    "y_new = pd.concat([y_ones, y_sampled])"
   ]
  },
  {
   "cell_type": "code",
   "execution_count": 34,
   "metadata": {},
   "outputs": [
    {
     "data": {
      "text/plain": [
       "1    0.5\n",
       "0    0.5\n",
       "Name: Response, dtype: float64"
      ]
     },
     "execution_count": 34,
     "metadata": {},
     "output_type": "execute_result"
    }
   ],
   "source": [
    "# checking to ensure the new dataset is balanced.\n",
    "y_new.value_counts(normalize=True)"
   ]
  },
  {
   "cell_type": "code",
   "execution_count": 35,
   "metadata": {},
   "outputs": [],
   "source": [
    "# putting together the remaining data points from the dominating class\n",
    "X_remaining = X.drop(indexes0 + list(y_ones.index))\n",
    "y_remaining = y.drop(indexes0 + list(y_ones.index))"
   ]
  },
  {
   "cell_type": "code",
   "execution_count": 36,
   "metadata": {},
   "outputs": [],
   "source": [
    "# splitting the downsampled set into a training and a validation set and merging the remaining data, from the downsampling the \n",
    "# dominating class, to the test set. This is done to ensure the test set is a good representation of the population the model \n",
    "# would be applied to; next, the data is scaled using standard scaler. \n",
    "X_train, X_test, y_train, y_test = train_test_split(X_new, y_new, test_size = 0.30, random_state=10)\n",
    "X_test = pd.concat([X_test, X_remaining])\n",
    "y_test = pd.concat([y_test, y_remaining])\n",
    "new_scaling = StandardScaler()\n",
    "X_train = new_scaling.fit_transform(X_train)\n",
    "X_test = new_scaling.transform(X_test)"
   ]
  },
  {
   "cell_type": "code",
   "execution_count": 37,
   "metadata": {},
   "outputs": [
    {
     "data": {
      "text/plain": [
       "0    0.519481\n",
       "1    0.480519\n",
       "Name: Response, dtype: float64"
      ]
     },
     "execution_count": 37,
     "metadata": {},
     "output_type": "execute_result"
    }
   ],
   "source": [
    "# checking the class distribution in the training set\n",
    "y_train.value_counts(normalize=True)"
   ]
  },
  {
   "cell_type": "code",
   "execution_count": 38,
   "metadata": {},
   "outputs": [
    {
     "data": {
      "text/plain": [
       "0    0.93881\n",
       "1    0.06119\n",
       "Name: Response, dtype: float64"
      ]
     },
     "execution_count": 38,
     "metadata": {},
     "output_type": "execute_result"
    }
   ],
   "source": [
    "# checking to ensure the test set is a representation of the population of the model would be applied tod\n",
    "y_test.value_counts(normalize=True)"
   ]
  },
  {
   "cell_type": "code",
   "execution_count": 39,
   "metadata": {},
   "outputs": [],
   "source": [
    "# Performing feature selection to select 25 most important variables identified using recursive feature selection with L2 \n",
    "# Logistic regression model as the estimator. This would help in easing the modelling process and reducing the chances of \n",
    "# the model overfitting to the dataset.\n",
    "estimator = LogisticRegression()\n",
    "selector = RFECV(estimator, min_features_to_select=25,cv=5,scoring=make_scorer(f1_score) )\n",
    "selector.fit(X_train, y_train)\n",
    "X_train = selector.transform(X_train)\n",
    "X_test = selector.transform(X_test)"
   ]
  },
  {
   "cell_type": "markdown",
   "metadata": {},
   "source": [
    "### Model Selection using the Downsampled Dataset"
   ]
  },
  {
   "cell_type": "markdown",
   "metadata": {},
   "source": [
    "Five classification algorithms are explored in this model selection process. These models are L1 and L2 logistic regression, Decision Tree Classifier, Random Forest Classifier, K Nearest Neighbour and XGBoost Classifier. In this section, this models are tuned with 5-fold cross validation and using the evaluation metric recall_score. Recall_score was chosen because for an email marketing campaign, the recall is more important than precision because we want to minimize the False Negatives and send email campaign messages to all customers that have higher tendencies to respond to our campaign."
   ]
  },
  {
   "cell_type": "markdown",
   "metadata": {},
   "source": [
    "#### L1 and L2 Logistic Regression Models"
   ]
  },
  {
   "cell_type": "code",
   "execution_count": 40,
   "metadata": {},
   "outputs": [
    {
     "name": "stdout",
     "output_type": "stream",
     "text": [
      "Fitting 10 folds for each of 20 candidates, totalling 200 fits\n"
     ]
    },
    {
     "name": "stderr",
     "output_type": "stream",
     "text": [
      "[Parallel(n_jobs=4)]: Using backend LokyBackend with 4 concurrent workers.\n",
      "[Parallel(n_jobs=4)]: Done 165 tasks      | elapsed:    1.4s\n"
     ]
    },
    {
     "name": "stdout",
     "output_type": "stream",
     "text": [
      "Best Score is: 0.7850523912081997 and Best model is: LogisticRegression(penalty='l1', solver='liblinear')\n"
     ]
    },
    {
     "name": "stderr",
     "output_type": "stream",
     "text": [
      "[Parallel(n_jobs=4)]: Done 200 out of 200 | elapsed:    1.7s finished\n"
     ]
    }
   ],
   "source": [
    "param_grid_lg1 = {'solver': ['liblinear','saga' ],\n",
    "                 'C': [0.2,0.2,0.3,0.4,0.5,0.6,0.7,.8,0.9,1.0]}\n",
    "folds = KFold(n_splits = 10, random_state=1,shuffle=True)\n",
    "param_search_lg1 = GridSearchCV(estimator=LogisticRegression(penalty='l1'),scoring=make_scorer(recall_score),\n",
    "                                param_grid=param_grid_lg1,n_jobs=4,cv=folds,verbose=1)\n",
    "param_search_lg1.fit(X_train,y_train)\n",
    "print('Best Score is:', param_search_lg1.best_score_, 'and Best model is:', param_search_lg1.best_estimator_)"
   ]
  },
  {
   "cell_type": "code",
   "execution_count": 41,
   "metadata": {},
   "outputs": [
    {
     "name": "stderr",
     "output_type": "stream",
     "text": [
      "[Parallel(n_jobs=4)]: Using backend LokyBackend with 4 concurrent workers.\n"
     ]
    },
    {
     "name": "stdout",
     "output_type": "stream",
     "text": [
      "Fitting 10 folds for each of 32 candidates, totalling 320 fits\n"
     ]
    },
    {
     "name": "stderr",
     "output_type": "stream",
     "text": [
      "[Parallel(n_jobs=4)]: Done 280 tasks      | elapsed:    1.1s\n"
     ]
    },
    {
     "name": "stdout",
     "output_type": "stream",
     "text": [
      "Best Score is: 0.802400217295156 and Best model is: LogisticRegression(C=0.24, max_iter=1000, solver='newton-cg')\n"
     ]
    },
    {
     "name": "stderr",
     "output_type": "stream",
     "text": [
      "[Parallel(n_jobs=4)]: Done 320 out of 320 | elapsed:    1.4s finished\n"
     ]
    }
   ],
   "source": [
    "param_gridlg2 = {'solver': ['newton-cg', 'lbfgs', 'sag','saga' ],\n",
    "              'C': [0.1,0.12,0.14,0.16,0.18,0.2,0.22,0.24]}\n",
    "folds = KFold(n_splits = 10, random_state=1, shuffle=True)\n",
    "param_searchlg2 = GridSearchCV(estimator=LogisticRegression(max_iter=1000),param_grid=param_gridlg2,scoring=make_scorer(recall_score),\n",
    "                               n_jobs=4,cv=folds,verbose=1)\n",
    "param_searchlg2.fit(X_train,y_train)\n",
    "print('Best Score is:', param_searchlg2.best_score_, 'and Best model is:', param_searchlg2.best_estimator_)"
   ]
  },
  {
   "cell_type": "markdown",
   "metadata": {},
   "source": [
    "##### Decision Tree Algorithm"
   ]
  },
  {
   "cell_type": "code",
   "execution_count": 42,
   "metadata": {},
   "outputs": [
    {
     "name": "stderr",
     "output_type": "stream",
     "text": [
      "[Parallel(n_jobs=4)]: Using backend LokyBackend with 4 concurrent workers.\n"
     ]
    },
    {
     "name": "stdout",
     "output_type": "stream",
     "text": [
      "Fitting 5 folds for each of 48 candidates, totalling 240 fits\n",
      "Best Score for DT is:  0.7352402476611821 and the Best parameters for the model is:  {'max_depth': 300, 'max_leaf_nodes': 150, 'min_samples_split': 4}\n"
     ]
    },
    {
     "name": "stderr",
     "output_type": "stream",
     "text": [
      "[Parallel(n_jobs=4)]: Done 190 tasks      | elapsed:    0.4s\n",
      "[Parallel(n_jobs=4)]: Done 240 out of 240 | elapsed:    0.4s finished\n"
     ]
    }
   ],
   "source": [
    "param_gridDT = { \"min_samples_split\": [3, 4, 5, 10],\n",
    "                \"max_depth\": [150,200,250,300],\n",
    "                \"max_leaf_nodes\": [100,150,200]}\n",
    "folds = KFold(n_splits = 5, random_state=1)\n",
    "param_searchDT = GridSearchCV(estimator = DecisionTreeClassifier(criterion='entropy'), scoring=make_scorer(recall_score),\n",
    "                              param_grid = param_gridDT, cv= folds,n_jobs=4,verbose=1)\n",
    "param_searchDT.fit(X_train,y_train)\n",
    "print('Best Score for DT is: ',param_searchDT.best_score_, 'and the Best parameters for the model is: ', \n",
    "      param_searchDT.best_params_)"
   ]
  },
  {
   "cell_type": "markdown",
   "metadata": {},
   "source": [
    "##### Random Forest Algorithm"
   ]
  },
  {
   "cell_type": "code",
   "execution_count": 43,
   "metadata": {},
   "outputs": [
    {
     "name": "stderr",
     "output_type": "stream",
     "text": [
      "[Parallel(n_jobs=4)]: Using backend LokyBackend with 4 concurrent workers.\n"
     ]
    },
    {
     "name": "stdout",
     "output_type": "stream",
     "text": [
      "Fitting 5 folds for each of 60 candidates, totalling 300 fits\n",
      "Best Score for Random Forest is:  0.7774298514576725 and the Best parameters for the model are:  {'bootstrap': False, 'max_depth': 120, 'n_estimators': 5}\n"
     ]
    },
    {
     "name": "stderr",
     "output_type": "stream",
     "text": [
      "[Parallel(n_jobs=4)]: Done 205 tasks      | elapsed:    0.6s\n",
      "[Parallel(n_jobs=4)]: Done 300 out of 300 | elapsed:    0.7s finished\n"
     ]
    }
   ],
   "source": [
    "model_RF = RandomForestClassifier()\n",
    "param_gridRF = {\"n_estimators\": [1,2,3,4,5,6],\n",
    "              \"max_depth\": [20, 50, 100,120,150],\n",
    "              \"bootstrap\": [True, False] }\n",
    "grid_searchRF = GridSearchCV(estimator = model_RF, param_grid=param_gridRF, n_jobs=4, scoring=make_scorer(recall_score),\n",
    "                             refit=True, verbose=1, cv=folds)\n",
    "grid_searchRF.fit(X_train, y_train)\n",
    "print('Best Score for Random Forest is: ',grid_searchRF.best_score_, 'and the Best parameters for the model are: ',\n",
    "      grid_searchRF.best_params_)"
   ]
  },
  {
   "cell_type": "markdown",
   "metadata": {},
   "source": [
    "##### K Nearest Neighbour Algorithm"
   ]
  },
  {
   "cell_type": "code",
   "execution_count": 44,
   "metadata": {},
   "outputs": [
    {
     "name": "stdout",
     "output_type": "stream",
     "text": [
      "for a K of  2 mean recall score is  0.42640981389156796 and the standard deviation across folds is  0.05940344514015579\n",
      "for a K of  3 mean recall score is  0.6189616485580556 and the standard deviation across folds is  0.025827135142404704\n",
      "for a K of  4 mean recall score is  0.47889754199529005 and the standard deviation across folds is  0.050250430318617686\n",
      "for a K of  5 mean recall score is  0.6469383944675567 and the standard deviation across folds is  0.08595206756517458\n",
      "for a K of  11 mean recall score is  0.572461464886142 and the standard deviation across folds is  0.06441261347462136\n",
      "for a K of  15 mean recall score is  0.5756840565848114 and the standard deviation across folds is  0.07143409593512581\n"
     ]
    }
   ],
   "source": [
    "n_neighbours = [2,3,4,5,11,15,]\n",
    "folds = KFold(n_splits = 5, random_state=1)\n",
    "for i in n_neighbours:\n",
    "    model = KNeighborsClassifier(n_neighbors = i,n_jobs=-1)\n",
    "    cross_valknn= cross_validate(estimator=model,X=X_train,y=y_train,cv=folds,scoring=make_scorer(recall_score))\n",
    "    mean_cvscore_knn = cross_valknn['test_score'].mean()\n",
    "    std_cvscore_knn = cross_valknn['test_score'].std()\n",
    "    print('for a K of ', i ,'mean recall score is ' , mean_cvscore_knn,'and the standard deviation across folds is ',\n",
    "          std_cvscore_knn)"
   ]
  },
  {
   "cell_type": "markdown",
   "metadata": {},
   "source": [
    "##### XGBOOST"
   ]
  },
  {
   "cell_type": "code",
   "execution_count": 45,
   "metadata": {},
   "outputs": [
    {
     "name": "stdout",
     "output_type": "stream",
     "text": [
      "Fitting 5 folds for each of 5040 candidates, totalling 25200 fits\n"
     ]
    },
    {
     "name": "stderr",
     "output_type": "stream",
     "text": [
      "[Parallel(n_jobs=4)]: Using backend LokyBackend with 4 concurrent workers.\n",
      "[Parallel(n_jobs=4)]: Done  42 tasks      | elapsed:    3.9s\n",
      "[Parallel(n_jobs=4)]: Done 336 tasks      | elapsed:   10.6s\n",
      "[Parallel(n_jobs=4)]: Done 836 tasks      | elapsed:   21.5s\n",
      "[Parallel(n_jobs=4)]: Done 2048 tasks      | elapsed:   41.8s\n",
      "[Parallel(n_jobs=4)]: Done 3848 tasks      | elapsed:  1.3min\n",
      "[Parallel(n_jobs=4)]: Done 5960 tasks      | elapsed:  2.0min\n",
      "[Parallel(n_jobs=4)]: Done 8560 tasks      | elapsed:  2.9min\n",
      "[Parallel(n_jobs=4)]: Done 11560 tasks      | elapsed:  3.8min\n",
      "[Parallel(n_jobs=4)]: Done 14960 tasks      | elapsed:  4.9min\n",
      "[Parallel(n_jobs=4)]: Done 18760 tasks      | elapsed:  6.1min\n",
      "[Parallel(n_jobs=4)]: Done 22960 tasks      | elapsed:  7.3min\n"
     ]
    },
    {
     "name": "stdout",
     "output_type": "stream",
     "text": [
      "Best Score for XGB is:  0.9040723981900453 and the Best parameters for the model are:  {'alpha': 0.5, 'lambda': 0, 'learning_rate': 2.0, 'max_depth': 20, 'n_estimators': 30, 'sampling_method': 'uniform', 'tree_method': 'hist'}\n"
     ]
    },
    {
     "name": "stderr",
     "output_type": "stream",
     "text": [
      "[Parallel(n_jobs=4)]: Done 25200 out of 25200 | elapsed:  7.8min finished\n"
     ]
    }
   ],
   "source": [
    "param_grid_xgb = {'n_estimators': [20,30,40,50,60,80,100],\n",
    "                 'max_depth': [20,30,40,50,70],\n",
    "                 'sampling_method':['uniform', 'gradient_based'],\n",
    "                 'tree_method': ['approx', 'hist'],\n",
    "                 'learning_rate':[0.5,1.0,1.5,2.0],\n",
    "                 'lambda': [0,0.5,1.0],\n",
    "                'alpha': [0,0.5,1.0]}\n",
    "param_searchXGB = GridSearchCV(estimator =XGBClassifier(),param_grid = param_grid_xgb, scoring=make_scorer(recall_score),\n",
    "                               cv= folds,n_jobs=4,verbose=1)\n",
    "param_searchXGB.fit(X_train,y_train)\n",
    "print('Best Score for XGB is: ',param_searchXGB.best_score_, 'and the Best parameters for the model are: ', param_searchXGB.best_params_)"
   ]
  },
  {
   "cell_type": "markdown",
   "metadata": {},
   "source": [
    "##### Fitting the best models with chosen hyperparameters from cross validation on the train set"
   ]
  },
  {
   "cell_type": "code",
   "execution_count": 54,
   "metadata": {
    "scrolled": false
   },
   "outputs": [
    {
     "data": {
      "text/plain": [
       "XGBClassifier(alpha=0.5, base_score=0.5, booster='gbtree', colsample_bylevel=1,\n",
       "              colsample_bynode=1, colsample_bytree=1, gamma=0, gpu_id=-1,\n",
       "              importance_type='gain', interaction_constraints='', lambda=0,\n",
       "              learning_rate=2.0, max_delta_step=0, max_depth=20,\n",
       "              min_child_weight=1, missing=nan, monotone_constraints='()',\n",
       "              n_estimators=30, n_jobs=0, num_parallel_tree=1, random_state=0,\n",
       "              reg_alpha=0.5, reg_lambda=0, sampling_method='uniform',\n",
       "              scale_pos_weight=1, subsample=1, tree_method='hist',\n",
       "              validate_parameters=1, verbosity=None)"
      ]
     },
     "execution_count": 54,
     "metadata": {},
     "output_type": "execute_result"
    }
   ],
   "source": [
    "best_logistic_model = param_searchlg2.best_estimator_\n",
    "best_logistic_model.fit(X_train, y_train)\n",
    "best_knn_model = KNeighborsClassifier(n_neighbors=5)\n",
    "best_knn_model.fit(X_train, y_train)\n",
    "best_DT_model = param_searchDT.best_estimator_\n",
    "best_DT_model.fit(X_train,y_train)\n",
    "best_RF_model = grid_searchRF.best_estimator_\n",
    "best_RF_model.fit(X_train,y_train)\n",
    "best_XGB_model = param_searchXGB.best_estimator_\n",
    "best_XGB_model.fit(X_train,y_train)"
   ]
  },
  {
   "cell_type": "markdown",
   "metadata": {},
   "source": [
    "##### Applying these models on the test set"
   ]
  },
  {
   "cell_type": "code",
   "execution_count": 55,
   "metadata": {},
   "outputs": [],
   "source": [
    "logistic_score = recall_score(y_test, best_logistic_model.predict(X_test))\n",
    "knn_score = recall_score(y_test, best_knn_model.predict(X_test))\n",
    "DT_score = recall_score(y_test, best_DT_model.predict(X_test))\n",
    "RF_score = recall_score(y_test, best_RF_model.predict(X_test))\n",
    "XGB_score = recall_score(y_test, best_XGB_model.predict(X_test))\n",
    "score_dict = {'Logistic Regression': logistic_score,'KNN': knn_score,'Decision Tree': DT_score,\n",
    "              'Random Forest': RF_score,'XGBoost': XGB_score}\n",
    "score = pd.Series(score_dict)\n",
    "df_recall_score = pd.DataFrame(score,columns=[\"Recall Score\"]).sort_values(by = \"Recall Score\", ascending=False)"
   ]
  },
  {
   "cell_type": "code",
   "execution_count": 56,
   "metadata": {
    "scrolled": true
   },
   "outputs": [
    {
     "data": {
      "text/html": [
       "<div>\n",
       "<style scoped>\n",
       "    .dataframe tbody tr th:only-of-type {\n",
       "        vertical-align: middle;\n",
       "    }\n",
       "\n",
       "    .dataframe tbody tr th {\n",
       "        vertical-align: top;\n",
       "    }\n",
       "\n",
       "    .dataframe thead th {\n",
       "        text-align: right;\n",
       "    }\n",
       "</style>\n",
       "<table border=\"1\" class=\"dataframe\">\n",
       "  <thead>\n",
       "    <tr style=\"text-align: right;\">\n",
       "      <th></th>\n",
       "      <th>Recall Score</th>\n",
       "    </tr>\n",
       "  </thead>\n",
       "  <tbody>\n",
       "    <tr>\n",
       "      <th>Logistic Regression</th>\n",
       "      <td>0.796296</td>\n",
       "    </tr>\n",
       "    <tr>\n",
       "      <th>Decision Tree</th>\n",
       "      <td>0.796296</td>\n",
       "    </tr>\n",
       "    <tr>\n",
       "      <th>Random Forest</th>\n",
       "      <td>0.750000</td>\n",
       "    </tr>\n",
       "    <tr>\n",
       "      <th>XGBoost</th>\n",
       "      <td>0.731481</td>\n",
       "    </tr>\n",
       "    <tr>\n",
       "      <th>KNN</th>\n",
       "      <td>0.657407</td>\n",
       "    </tr>\n",
       "  </tbody>\n",
       "</table>\n",
       "</div>"
      ],
      "text/plain": [
       "                     Recall Score\n",
       "Logistic Regression      0.796296\n",
       "Decision Tree            0.796296\n",
       "Random Forest            0.750000\n",
       "XGBoost                  0.731481\n",
       "KNN                      0.657407"
      ]
     },
     "execution_count": 56,
     "metadata": {},
     "output_type": "execute_result"
    }
   ],
   "source": [
    "# Recall Score of the 5 models on the test set\n",
    "df_recall_score"
   ]
  },
  {
   "cell_type": "code",
   "execution_count": 57,
   "metadata": {},
   "outputs": [
    {
     "name": "stdout",
     "output_type": "stream",
     "text": [
      "              precision    recall  f1-score   support\n",
      "\n",
      "           0       0.98      0.80      0.89      1657\n",
      "           1       0.21      0.80      0.33       108\n",
      "\n",
      "    accuracy                           0.80      1765\n",
      "   macro avg       0.60      0.80      0.61      1765\n",
      "weighted avg       0.94      0.80      0.85      1765\n",
      "\n"
     ]
    }
   ],
   "source": [
    "# Classification Report of the model with the highest recall score.\n",
    "print(classification_report(y_test,best_logistic_model.predict(X_test)))"
   ]
  },
  {
   "cell_type": "code",
   "execution_count": 58,
   "metadata": {},
   "outputs": [
    {
     "name": "stdout",
     "output_type": "stream",
     "text": [
      "[[1333  324]\n",
      " [  22   86]]\n"
     ]
    }
   ],
   "source": [
    "# Confusion matrix of the model with the highest recall score\n",
    "print(confusion_matrix(y_test,best_logistic_model.predict(X_test)))"
   ]
  },
  {
   "cell_type": "markdown",
   "metadata": {},
   "source": [
    "With a False Negative rate of 0.8, this model can be used to determine which customers would most likely respond to an email marketing campaign"
   ]
  }
 ],
 "metadata": {
  "kernelspec": {
   "display_name": "Python 3",
   "language": "python",
   "name": "python3"
  },
  "language_info": {
   "codemirror_mode": {
    "name": "ipython",
    "version": 3
   },
   "file_extension": ".py",
   "mimetype": "text/x-python",
   "name": "python",
   "nbconvert_exporter": "python",
   "pygments_lexer": "ipython3",
   "version": "3.8.3"
  }
 },
 "nbformat": 4,
 "nbformat_minor": 4
}
